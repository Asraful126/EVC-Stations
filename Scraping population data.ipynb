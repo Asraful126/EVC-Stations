{
 "cells": [
  {
   "cell_type": "markdown",
   "id": "bce79880",
   "metadata": {},
   "source": [
    "# Scraping table from web of multiple pages"
   ]
  },
  {
   "cell_type": "markdown",
   "id": "90f2a949",
   "metadata": {},
   "source": [
    "## Required libraries"
   ]
  },
  {
   "cell_type": "code",
   "execution_count": 2,
   "id": "97129c87",
   "metadata": {},
   "outputs": [],
   "source": [
    "import selenium\n",
    "from selenium import webdriver\n",
    "from selenium.webdriver.common.by import By\n",
    "from selenium.webdriver.support.wait import WebDriverWait\n",
    "import time\n",
    "import pandas as pd"
   ]
  },
  {
   "cell_type": "markdown",
   "id": "663fe970",
   "metadata": {},
   "source": [
    "## Browsing the given link by Chrome and expanding the expected table"
   ]
  },
  {
   "cell_type": "code",
   "execution_count": 3,
   "id": "b270db9d",
   "metadata": {
    "scrolled": true
   },
   "outputs": [
    {
     "name": "stderr",
     "output_type": "stream",
     "text": [
      "C:\\Users\\Asraful Islam\\AppData\\Local\\Temp\\ipykernel_11048\\3520118883.py:3: DeprecationWarning: executable_path has been deprecated, please pass in a Service object\n",
      "  driver = webdriver.Chrome(\"C:/webdriver/chromedriver.exe\")\n"
     ]
    }
   ],
   "source": [
    "# browser\n",
    "url = \"https://www.brilliantmigrationclub.com/regional-areas-in-queensland/\"\n",
    "driver = webdriver.Chrome(\"C:/webdriver/chromedriver.exe\")\n",
    "driver.get(url)\n",
    "time.sleep(0.5)\n",
    "\n",
    "# expand table\n",
    "complete_lsit = driver.find_element(By.XPATH, '/html/body/main/div/div[1]/div/div/section[4]/div/div/div/div/div/section[5]/div/div/div/div/div/div[5]/div/div/button')\n",
    "complete_lsit.click()\n",
    "time.sleep(0.5)\n",
    "\n"
   ]
  },
  {
   "cell_type": "markdown",
   "id": "187f955e-fcf4-472a-abec-6c602b6ece68",
   "metadata": {},
   "source": [
    "## Demo: Scraping the table from first page"
   ]
  },
  {
   "cell_type": "code",
   "execution_count": 4,
   "id": "644953c7-58a4-40d0-b7f2-0678fffd9584",
   "metadata": {},
   "outputs": [],
   "source": [
    "postcode = []\n",
    "name = []\n",
    "distance = []\n",
    "population = []\n",
    "cat = []\n",
    "median_income = []\n",
    "area = []\n",
    "urban = []\n",
    "type_ = []\n",
    "local_gov = []\n",
    "region = []\n",
    "df = pd.DataFrame()\n",
    "\n",
    "postcode = driver.find_elements(by=By.XPATH, value='//*[@id=\"DataTables_Table_0\"]/tbody/tr/td[1]')\n",
    "name = driver.find_elements(By.XPATH, '//*[@id=\"DataTables_Table_0\"]/tbody/tr/td[2]')\n",
    "distance = driver.find_elements(By.XPATH, '//*[@id=\"DataTables_Table_0\"]/tbody/tr/td[3]')\n",
    "population = driver.find_elements(By.XPATH, '//*[@id=\"DataTables_Table_0\"]/tbody/tr/td[4]')\n",
    "cat = driver.find_elements(By.XPATH, '//*[@id=\"DataTables_Table_0\"]/tbody/tr/td[5]')\n",
    "median_income = driver.find_elements(By.XPATH, '//*[@id=\"DataTables_Table_0\"]/tbody/tr/td[6]')\n",
    "area = driver.find_elements(By.XPATH, '//*[@id=\"DataTables_Table_0\"]/tbody/tr/td[7]')\n",
    "urban = driver.find_elements(By.XPATH, '//*[@id=\"DataTables_Table_0\"]/tbody/tr/td[8]') \n",
    "type_ = driver.find_elements(By.XPATH, '//*[@id=\"DataTables_Table_0\"]/tbody/tr/td[9]')\n",
    "local_gov = driver.find_elements(By.XPATH, '//*[@id=\"DataTables_Table_0\"]/tbody/tr/td[10]')\n",
    "region = driver.find_elements(By.XPATH, '//*[@id=\"DataTables_Table_0\"]/tbody/tr/td[11]')\n",
    "\n",
    "dict_ = []\n",
    "for i in range(len(postcode)):\n",
    "    temp = {\"Postcode\": postcode[i].text,\n",
    "            \"Name\": name[i].text,\n",
    "            \"Distance from the capital CDB (km)\": distance[i].text,\n",
    "            \"Population\": population[i].text,\n",
    "            \"Category\": cat[i].text,\n",
    "            \"Median Income\": median_income[i].text,\n",
    "            \"Area (sq km)\": area[i].text,\n",
    "            \"Urban area\": urban[i].text,\n",
    "            \"Type\": type_[i].text,\n",
    "            \"Local Gov\": local_gov[i].text,\n",
    "            \"Region\": region[i].text\n",
    "             }\n",
    "    dict_.append(temp)\n",
    "df = pd.concat([df, pd.DataFrame(dict_)])"
   ]
  },
  {
   "cell_type": "code",
   "execution_count": 5,
   "id": "6337c6c6",
   "metadata": {},
   "outputs": [
    {
     "data": {
      "text/plain": [
       "'4506'"
      ]
     },
     "execution_count": 5,
     "metadata": {},
     "output_type": "execute_result"
    }
   ],
   "source": [
    "postcode[5].text"
   ]
  },
  {
   "cell_type": "code",
   "execution_count": 6,
   "id": "d52ab150",
   "metadata": {},
   "outputs": [
    {
     "data": {
      "text/plain": [
       "10"
      ]
     },
     "execution_count": 6,
     "metadata": {},
     "output_type": "execute_result"
    }
   ],
   "source": [
    "len(postcode)"
   ]
  },
  {
   "cell_type": "code",
   "execution_count": 7,
   "id": "9b928b6f",
   "metadata": {},
   "outputs": [
    {
     "data": {
      "text/html": [
       "<div>\n",
       "<style scoped>\n",
       "    .dataframe tbody tr th:only-of-type {\n",
       "        vertical-align: middle;\n",
       "    }\n",
       "\n",
       "    .dataframe tbody tr th {\n",
       "        vertical-align: top;\n",
       "    }\n",
       "\n",
       "    .dataframe thead th {\n",
       "        text-align: right;\n",
       "    }\n",
       "</style>\n",
       "<table border=\"1\" class=\"dataframe\">\n",
       "  <thead>\n",
       "    <tr style=\"text-align: right;\">\n",
       "      <th></th>\n",
       "      <th>Postcode</th>\n",
       "      <th>Name</th>\n",
       "      <th>Distance from the capital CDB (km)</th>\n",
       "      <th>Population</th>\n",
       "      <th>Category</th>\n",
       "      <th>Median Income</th>\n",
       "      <th>Area (sq km)</th>\n",
       "      <th>Urban area</th>\n",
       "      <th>Type</th>\n",
       "      <th>Local Gov</th>\n",
       "      <th>Region</th>\n",
       "    </tr>\n",
       "  </thead>\n",
       "  <tbody>\n",
       "    <tr>\n",
       "      <th>0</th>\n",
       "      <td>4215</td>\n",
       "      <td>Southport</td>\n",
       "      <td>76.1</td>\n",
       "      <td>31908</td>\n",
       "      <td>Category 2</td>\n",
       "      <td>28288</td>\n",
       "      <td>14.256</td>\n",
       "      <td>Gold Coast</td>\n",
       "      <td>Suburb</td>\n",
       "      <td>Gold Coast (City)</td>\n",
       "      <td>Gold Coast</td>\n",
       "    </tr>\n",
       "    <tr>\n",
       "      <th>1</th>\n",
       "      <td>4510</td>\n",
       "      <td>Caboolture</td>\n",
       "      <td>50</td>\n",
       "      <td>26433</td>\n",
       "      <td></td>\n",
       "      <td>26936</td>\n",
       "      <td>68.529</td>\n",
       "      <td>Brisbane</td>\n",
       "      <td>Suburb</td>\n",
       "      <td>Moreton Bay (Regional Council)</td>\n",
       "      <td>Moreton Bay - North</td>\n",
       "    </tr>\n",
       "    <tr>\n",
       "      <th>2</th>\n",
       "      <td>4556</td>\n",
       "      <td>Buderim</td>\n",
       "      <td>96.6</td>\n",
       "      <td>29355</td>\n",
       "      <td>Category 2</td>\n",
       "      <td>34216</td>\n",
       "      <td>30.579</td>\n",
       "      <td>Sunshine Coast</td>\n",
       "      <td>Suburb</td>\n",
       "      <td>Sunshine Coast (Regional Council)</td>\n",
       "      <td>Sunshine Coast</td>\n",
       "    </tr>\n",
       "    <tr>\n",
       "      <th>3</th>\n",
       "      <td>4217</td>\n",
       "      <td>Surfers Paradise</td>\n",
       "      <td>78.3</td>\n",
       "      <td>23689</td>\n",
       "      <td>Category 2</td>\n",
       "      <td>33124</td>\n",
       "      <td>5.796</td>\n",
       "      <td>Gold Coast</td>\n",
       "      <td>Suburb</td>\n",
       "      <td>Gold Coast (City)</td>\n",
       "      <td>Gold Coast</td>\n",
       "    </tr>\n",
       "    <tr>\n",
       "      <th>4</th>\n",
       "      <td>4508</td>\n",
       "      <td>Deception Bay</td>\n",
       "      <td>38.8</td>\n",
       "      <td>19850</td>\n",
       "      <td></td>\n",
       "      <td>28444</td>\n",
       "      <td>19.437</td>\n",
       "      <td>Brisbane</td>\n",
       "      <td>Suburb</td>\n",
       "      <td>Moreton Bay (Regional Council)</td>\n",
       "      <td>Moreton Bay - North</td>\n",
       "    </tr>\n",
       "  </tbody>\n",
       "</table>\n",
       "</div>"
      ],
      "text/plain": [
       "  Postcode              Name Distance from the capital CDB (km) Population  \\\n",
       "0     4215         Southport                               76.1      31908   \n",
       "1     4510        Caboolture                                 50      26433   \n",
       "2     4556           Buderim                               96.6      29355   \n",
       "3     4217  Surfers Paradise                               78.3      23689   \n",
       "4     4508     Deception Bay                               38.8      19850   \n",
       "\n",
       "     Category Median Income Area (sq km)      Urban area    Type  \\\n",
       "0  Category 2         28288       14.256      Gold Coast  Suburb   \n",
       "1                     26936       68.529        Brisbane  Suburb   \n",
       "2  Category 2         34216       30.579  Sunshine Coast  Suburb   \n",
       "3  Category 2         33124        5.796      Gold Coast  Suburb   \n",
       "4                     28444       19.437        Brisbane  Suburb   \n",
       "\n",
       "                           Local Gov               Region  \n",
       "0                  Gold Coast (City)           Gold Coast  \n",
       "1     Moreton Bay (Regional Council)  Moreton Bay - North  \n",
       "2  Sunshine Coast (Regional Council)       Sunshine Coast  \n",
       "3                  Gold Coast (City)           Gold Coast  \n",
       "4     Moreton Bay (Regional Council)  Moreton Bay - North  "
      ]
     },
     "execution_count": 7,
     "metadata": {},
     "output_type": "execute_result"
    }
   ],
   "source": [
    "df.head()"
   ]
  },
  {
   "cell_type": "markdown",
   "id": "35f51fdc-2b7b-418a-ae58-a9f6ba31b29c",
   "metadata": {},
   "source": [
    "## Demo: Scraping tables from the first 10 pages"
   ]
  },
  {
   "cell_type": "code",
   "execution_count": 8,
   "id": "b74d39f2-a01a-4a04-a384-85510146fd1a",
   "metadata": {},
   "outputs": [],
   "source": [
    "df = pd.DataFrame()\n",
    "postcode = []\n",
    "name = []\n",
    "distance = []\n",
    "population = []\n",
    "cat = []\n",
    "median_income = []\n",
    "area = []\n",
    "urban = []\n",
    "type_ = []\n",
    "local_gov = []\n",
    "region = []\n",
    "\n",
    "for j in range(10):\n",
    "    \n",
    "    postcode = driver.find_elements(by=By.XPATH, value='//*[@id=\"DataTables_Table_0\"]/tbody/tr/td[1]')\n",
    "    name = driver.find_elements(By.XPATH, '//*[@id=\"DataTables_Table_0\"]/tbody/tr/td[2]')\n",
    "    distance = driver.find_elements(By.XPATH, '//*[@id=\"DataTables_Table_0\"]/tbody/tr/td[3]')\n",
    "    population = driver.find_elements(By.XPATH, '//*[@id=\"DataTables_Table_0\"]/tbody/tr/td[4]')\n",
    "    cat = driver.find_elements(By.XPATH, '//*[@id=\"DataTables_Table_0\"]/tbody/tr/td[5]')\n",
    "    median_income = driver.find_elements(By.XPATH, '//*[@id=\"DataTables_Table_0\"]/tbody/tr/td[6]')\n",
    "    area = driver.find_elements(By.XPATH, '//*[@id=\"DataTables_Table_0\"]/tbody/tr/td[7]')\n",
    "    urban = driver.find_elements(By.XPATH, '//*[@id=\"DataTables_Table_0\"]/tbody/tr/td[8]') \n",
    "    type_ = driver.find_elements(By.XPATH, '//*[@id=\"DataTables_Table_0\"]/tbody/tr/td[9]')\n",
    "    local_gov = driver.find_elements(By.XPATH, '//*[@id=\"DataTables_Table_0\"]/tbody/tr/td[10]')\n",
    "    region = driver.find_elements(By.XPATH, '//*[@id=\"DataTables_Table_0\"]/tbody/tr/td[11]')\n",
    "     \n",
    "    dict_ = []\n",
    "    for i in range(len(postcode)):\n",
    "\n",
    "        temp = {\"Postcode\": postcode[i].text,\n",
    "                \"Name\": name[i].text,\n",
    "                \"Distance from the capital CDB (km)\": distance[i].text,\n",
    "                \"Population\": population[i].text,\n",
    "                \"Category\": cat[i].text,\n",
    "                \"Median Income\": median_income[i].text,\n",
    "                \"Area (sq km)\": area[i].text,\n",
    "                \"Urban area\": urban[i].text,\n",
    "                \"Type\": type_[i].text,\n",
    "                \"Local Gov\": local_gov[i].text,\n",
    "                \"Region\": region[i].text\n",
    "               }\n",
    "        dict_.append(temp)\n",
    "    \n",
    "    df = pd.concat([df, pd.DataFrame(dict_)])\n",
    "    driver.find_element(By.XPATH, '//*[@id=\"DataTables_Table_0_next\"]/a').click()\n",
    "       "
   ]
  },
  {
   "cell_type": "code",
   "execution_count": 9,
   "id": "068376f2",
   "metadata": {},
   "outputs": [
    {
     "data": {
      "text/plain": [
       "100"
      ]
     },
     "execution_count": 9,
     "metadata": {},
     "output_type": "execute_result"
    }
   ],
   "source": [
    "len(df)"
   ]
  },
  {
   "cell_type": "code",
   "execution_count": 10,
   "id": "885d4109",
   "metadata": {},
   "outputs": [
    {
     "data": {
      "text/html": [
       "<div>\n",
       "<style scoped>\n",
       "    .dataframe tbody tr th:only-of-type {\n",
       "        vertical-align: middle;\n",
       "    }\n",
       "\n",
       "    .dataframe tbody tr th {\n",
       "        vertical-align: top;\n",
       "    }\n",
       "\n",
       "    .dataframe thead th {\n",
       "        text-align: right;\n",
       "    }\n",
       "</style>\n",
       "<table border=\"1\" class=\"dataframe\">\n",
       "  <thead>\n",
       "    <tr style=\"text-align: right;\">\n",
       "      <th></th>\n",
       "      <th>index</th>\n",
       "      <th>Postcode</th>\n",
       "      <th>Name</th>\n",
       "      <th>Distance from the capital CDB (km)</th>\n",
       "      <th>Population</th>\n",
       "      <th>Category</th>\n",
       "      <th>Median Income</th>\n",
       "      <th>Area (sq km)</th>\n",
       "      <th>Urban area</th>\n",
       "      <th>Type</th>\n",
       "      <th>Local Gov</th>\n",
       "      <th>Region</th>\n",
       "    </tr>\n",
       "  </thead>\n",
       "  <tbody>\n",
       "    <tr>\n",
       "      <th>95</th>\n",
       "      <td>5</td>\n",
       "      <td>4655</td>\n",
       "      <td>Point Vernon</td>\n",
       "      <td>295</td>\n",
       "      <td>5699</td>\n",
       "      <td>Category 3</td>\n",
       "      <td>24024</td>\n",
       "      <td>4.846</td>\n",
       "      <td>Hervey Bay</td>\n",
       "      <td>Suburb</td>\n",
       "      <td>Fraser Coast (Regional Council)</td>\n",
       "      <td>Wide Bay</td>\n",
       "    </tr>\n",
       "    <tr>\n",
       "      <th>96</th>\n",
       "      <td>6</td>\n",
       "      <td>4133</td>\n",
       "      <td>Waterford West</td>\n",
       "      <td>30.4</td>\n",
       "      <td>6431</td>\n",
       "      <td>Category 3</td>\n",
       "      <td>27144</td>\n",
       "      <td>5.245</td>\n",
       "      <td>Brisbane</td>\n",
       "      <td>Suburb</td>\n",
       "      <td>Logan (City)</td>\n",
       "      <td>Logan - Beaudesert</td>\n",
       "    </tr>\n",
       "    <tr>\n",
       "      <th>97</th>\n",
       "      <td>7</td>\n",
       "      <td>4560</td>\n",
       "      <td>Bli Bli</td>\n",
       "      <td>111</td>\n",
       "      <td>7801</td>\n",
       "      <td>Category 2</td>\n",
       "      <td>33020</td>\n",
       "      <td>31.097</td>\n",
       "      <td>Sunshine Coast</td>\n",
       "      <td>Suburb</td>\n",
       "      <td>Sunshine Coast (Regional Council)</td>\n",
       "      <td>Sunshine Coast</td>\n",
       "    </tr>\n",
       "    <tr>\n",
       "      <th>98</th>\n",
       "      <td>8</td>\n",
       "      <td>4519</td>\n",
       "      <td>Beerwah</td>\n",
       "      <td>74.7</td>\n",
       "      <td>6769</td>\n",
       "      <td>Category 2</td>\n",
       "      <td>29484</td>\n",
       "      <td>58.610</td>\n",
       "      <td></td>\n",
       "      <td>Urban locality</td>\n",
       "      <td>Sunshine Coast (Regional Council)</td>\n",
       "      <td>Sunshine Coast</td>\n",
       "    </tr>\n",
       "    <tr>\n",
       "      <th>99</th>\n",
       "      <td>9</td>\n",
       "      <td>4551</td>\n",
       "      <td>Currimundi</td>\n",
       "      <td>93.7</td>\n",
       "      <td>6786</td>\n",
       "      <td>Category 2</td>\n",
       "      <td>29588</td>\n",
       "      <td>3.639</td>\n",
       "      <td>Sunshine Coast</td>\n",
       "      <td>Suburb</td>\n",
       "      <td>Sunshine Coast (Regional Council)</td>\n",
       "      <td>Sunshine Coast</td>\n",
       "    </tr>\n",
       "  </tbody>\n",
       "</table>\n",
       "</div>"
      ],
      "text/plain": [
       "    index Postcode            Name Distance from the capital CDB (km)  \\\n",
       "95      5     4655    Point Vernon                                295   \n",
       "96      6     4133  Waterford West                               30.4   \n",
       "97      7     4560         Bli Bli                                111   \n",
       "98      8     4519         Beerwah                               74.7   \n",
       "99      9     4551      Currimundi                               93.7   \n",
       "\n",
       "   Population    Category Median Income Area (sq km)      Urban area  \\\n",
       "95       5699  Category 3         24024        4.846      Hervey Bay   \n",
       "96       6431  Category 3         27144        5.245        Brisbane   \n",
       "97       7801  Category 2         33020       31.097  Sunshine Coast   \n",
       "98       6769  Category 2         29484       58.610                   \n",
       "99       6786  Category 2         29588        3.639  Sunshine Coast   \n",
       "\n",
       "              Type                          Local Gov              Region  \n",
       "95          Suburb    Fraser Coast (Regional Council)            Wide Bay  \n",
       "96          Suburb                       Logan (City)  Logan - Beaudesert  \n",
       "97          Suburb  Sunshine Coast (Regional Council)      Sunshine Coast  \n",
       "98  Urban locality  Sunshine Coast (Regional Council)      Sunshine Coast  \n",
       "99          Suburb  Sunshine Coast (Regional Council)      Sunshine Coast  "
      ]
     },
     "execution_count": 10,
     "metadata": {},
     "output_type": "execute_result"
    }
   ],
   "source": [
    "df.reset_index().tail()"
   ]
  },
  {
   "cell_type": "markdown",
   "id": "11bfad75",
   "metadata": {},
   "source": [
    "## Scraping table from all 303 pages"
   ]
  },
  {
   "cell_type": "code",
   "execution_count": null,
   "id": "d34c8aff",
   "metadata": {},
   "outputs": [],
   "source": [
    "# browser\n",
    "driver = webdriver.Chrome(\"C:/webdriver/chromedriver.exe\")\n",
    "driver.get(\"https://www.brilliantmigrationclub.com/regional-areas-in-queensland/\")\n",
    "time.sleep(0.5)\n",
    "\n",
    "# expand table\n",
    "complete_lsit = driver.find_element(By.XPATH, '/html/body/main/div/div[1]/div/div/section[4]/div/div/div/div/div/section[5]/div/div/div/div/div/div[5]/div/div/button')\n",
    "complete_lsit.click()\n",
    "time.sleep(0.5)\n",
    "\n",
    "# initialise dataframe\n",
    "df = pd.DataFrame()\n",
    "\n",
    "# initialise column data\n",
    "postcode = []\n",
    "name = []\n",
    "distance = []\n",
    "population = []\n",
    "cat = []\n",
    "median_income = []\n",
    "area = []\n",
    "urban = []\n",
    "type_ = []\n",
    "local_gov = []\n",
    "region = []\n",
    "\n",
    "for j in range(303):\n",
    "    \n",
    "    postcode = driver.find_elements(by=By.XPATH, value='//*[@id=\"DataTables_Table_0\"]/tbody/tr/td[1]')\n",
    "    name = driver.find_elements(By.XPATH, '//*[@id=\"DataTables_Table_0\"]/tbody/tr/td[2]')\n",
    "    distance = driver.find_elements(By.XPATH, '//*[@id=\"DataTables_Table_0\"]/tbody/tr/td[3]')\n",
    "    population = driver.find_elements(By.XPATH, '//*[@id=\"DataTables_Table_0\"]/tbody/tr/td[4]')\n",
    "    cat = driver.find_elements(By.XPATH, '//*[@id=\"DataTables_Table_0\"]/tbody/tr/td[5]')\n",
    "    median_income = driver.find_elements(By.XPATH, '//*[@id=\"DataTables_Table_0\"]/tbody/tr/td[6]')\n",
    "    area = driver.find_elements(By.XPATH, '//*[@id=\"DataTables_Table_0\"]/tbody/tr/td[7]')\n",
    "    urban = driver.find_elements(By.XPATH, '//*[@id=\"DataTables_Table_0\"]/tbody/tr/td[8]') \n",
    "    type_ = driver.find_elements(By.XPATH, '//*[@id=\"DataTables_Table_0\"]/tbody/tr/td[9]')\n",
    "    local_gov = driver.find_elements(By.XPATH, '//*[@id=\"DataTables_Table_0\"]/tbody/tr/td[10]')\n",
    "    region = driver.find_elements(By.XPATH, '//*[@id=\"DataTables_Table_0\"]/tbody/tr/td[11]')\n",
    " \n",
    "    dict_ = []\n",
    "    for i in range(len(postcode)):\n",
    "\n",
    "        temp = {\"Postcode\": postcode[i].text,\n",
    "                \"Name\": name[i].text,\n",
    "                \"Distance from the capital CDB (km)\": distance[i].text,\n",
    "                \"Population\": population[i].text,\n",
    "                \"Category\": cat[i].text,\n",
    "                \"Median Income\": median_income[i].text,\n",
    "                \"Area (sq km)\": area[i].text,\n",
    "                \"Urban area\": urban[i].text,\n",
    "                \"Type\": type_[i].text,\n",
    "                \"Local Gov\": local_gov[i].text,\n",
    "                \"Region\": region[i].text\n",
    "               }\n",
    "                   \n",
    "        dict_.append(temp)\n",
    "    df = pd.concat([df, pd.DataFrame(dict_)])\n",
    "    # go to next page\n",
    "    if j == 303:\n",
    "        break\n",
    "    driver.find_element(By.XPATH, '//*[@id=\"DataTables_Table_0_next\"]/a').click()"
   ]
  },
  {
   "cell_type": "code",
   "execution_count": null,
   "id": "fb8e9d9d",
   "metadata": {},
   "outputs": [],
   "source": [
    "len(df)"
   ]
  },
  {
   "cell_type": "code",
   "execution_count": null,
   "id": "065c55b2",
   "metadata": {
    "scrolled": false
   },
   "outputs": [],
   "source": [
    "df.tail()"
   ]
  },
  {
   "cell_type": "code",
   "execution_count": null,
   "id": "20c42f4e",
   "metadata": {},
   "outputs": [],
   "source": [
    "df.index = range(3027)\n",
    "# df.reset_index()\n",
    "# df.reindex(index=range(0,n))"
   ]
  },
  {
   "cell_type": "code",
   "execution_count": null,
   "id": "6fdbb3e3",
   "metadata": {},
   "outputs": [],
   "source": [
    "df.tail()"
   ]
  },
  {
   "cell_type": "markdown",
   "id": "63d68fbf",
   "metadata": {},
   "source": [
    "## Exporting data into an excel file"
   ]
  },
  {
   "cell_type": "code",
   "execution_count": null,
   "id": "46f41472",
   "metadata": {},
   "outputs": [],
   "source": [
    "df.to_excel('data.xlsx', index=False)"
   ]
  }
 ],
 "metadata": {
  "hide_input": false,
  "kernelspec": {
   "display_name": "Python 3 (ipykernel)",
   "language": "python",
   "name": "python3"
  },
  "language_info": {
   "codemirror_mode": {
    "name": "ipython",
    "version": 3
   },
   "file_extension": ".py",
   "mimetype": "text/x-python",
   "name": "python",
   "nbconvert_exporter": "python",
   "pygments_lexer": "ipython3",
   "version": "3.9.12"
  }
 },
 "nbformat": 4,
 "nbformat_minor": 5
}
